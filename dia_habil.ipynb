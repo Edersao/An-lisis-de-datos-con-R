{
  "nbformat": 4,
  "nbformat_minor": 0,
  "metadata": {
    "colab": {
      "provenance": [],
      "authorship_tag": "ABX9TyNI7pKhFsqavc9rIH/DZkPz",
      "include_colab_link": true
    },
    "kernelspec": {
      "name": "python3",
      "display_name": "Python 3"
    },
    "language_info": {
      "name": "python"
    }
  },
  "cells": [
    {
      "cell_type": "markdown",
      "metadata": {
        "id": "view-in-github",
        "colab_type": "text"
      },
      "source": [
        "<a href=\"https://colab.research.google.com/github/Edersao/An-lisis-de-datos-con-R/blob/main/dia_habil.ipynb\" target=\"_parent\"><img src=\"https://colab.research.google.com/assets/colab-badge.svg\" alt=\"Open In Colab\"/></a>"
      ]
    },
    {
      "cell_type": "code",
      "execution_count": 5,
      "metadata": {
        "colab": {
          "base_uri": "https://localhost:8080/"
        },
        "id": "PbOf26l2EMU5",
        "outputId": "22bd1ae0-dbda-40e0-ab17-c7440045f8d0"
      },
      "outputs": [
        {
          "output_type": "stream",
          "name": "stdout",
          "text": [
            "Fecha de comienzo (ejemplo: 24-09-2024): 24-09-2024\n",
            "¿Cuántos días habiles? 60\n",
            "La nueva fecha es: 18-12-2024\n"
          ]
        }
      ],
      "source": [
        "from datetime import datetime, timedelta\n",
        "\n",
        "# Definir los días festivos (año, mes, día)\n",
        "dias_festivos = [\n",
        "    datetime(2024, 1, 1),   # Año Nuevo\n",
        "    datetime(2024, 5, 1),   # Día del Trabajo\n",
        "    datetime(2024, 9, 16),  # Día de la Independencia\n",
        "    datetime(2024,10,1),    # Sucesion de poderes\n",
        "    datetime(2024, 12, 25),  # Navidad\n",
        "    datetime(2025,1,1)   # Año Nuevo\n",
        "    # Cada año se cambian según los días festivos oficiales\n",
        "]\n",
        "\n",
        "def es_dia_habil(fecha):\n",
        "    return fecha.weekday() < 5 and fecha not in dias_festivos\n",
        "\n",
        "def obtener_fecha_habil(fecha_origen, dias_habiles):\n",
        "    \"\"\"Obtiene la fecha después de agregar un número de días hábiles a la fecha de origen.\"\"\"\n",
        "    fecha_actual = fecha_origen\n",
        "    dias_agregados = 0\n",
        "\n",
        "    while dias_agregados < dias_habiles:\n",
        "        fecha_actual += timedelta(days=1)\n",
        "        if es_dia_habil(fecha_actual):\n",
        "            dias_agregados += 1\n",
        "\n",
        "    return fecha_actual\n",
        "\n",
        "# Ejemplo de uso\n",
        "fecha=input(\"Fecha de comienzo (ejemplo: 24-09-2024): \")\n",
        "fecha_inicial = datetime.strptime(fecha, '%d-%m-%Y')\n",
        "dias_a_agregar = int(input(\"¿Cuántos días habiles? \" ))\n",
        "\n",
        "nueva_fecha = obtener_fecha_habil(fecha_inicial, dias_a_agregar)\n",
        "print(\"La nueva fecha es:\", nueva_fecha.strftime('%d-%m-%Y'))\n",
        "\n"
      ]
    }
  ]
}